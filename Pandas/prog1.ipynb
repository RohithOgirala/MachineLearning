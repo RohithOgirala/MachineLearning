{
 "cells": [
  {
   "cell_type": "code",
   "execution_count": 3,
   "metadata": {},
   "outputs": [
    {
     "data": {
      "text/plain": [
       "0    1.00\n",
       "1    0.25\n",
       "2    5.60\n",
       "3    0.76\n",
       "dtype: float64"
      ]
     },
     "execution_count": 3,
     "metadata": {},
     "output_type": "execute_result"
    }
   ],
   "source": [
    "import pandas as pd\n",
    "data=pd.Series([1,0.25,5.6,0.76])\n",
    "data"
   ]
  },
  {
   "cell_type": "code",
   "execution_count": 4,
   "metadata": {},
   "outputs": [
    {
     "data": {
      "text/plain": [
       "0       INDIA\n",
       "1    PAKISTAN\n",
       "2      RUSSIA\n",
       "3       CHINA\n",
       "4     AMERICA\n",
       "dtype: object"
      ]
     },
     "execution_count": 4,
     "metadata": {},
     "output_type": "execute_result"
    }
   ],
   "source": [
    "country=['INDIA','PAKISTAN','RUSSIA','CHINA','AMERICA']\n",
    "pd.Series(country)\n"
   ]
  },
  {
   "cell_type": "code",
   "execution_count": 6,
   "metadata": {},
   "outputs": [
    {
     "data": {
      "text/plain": [
       "MATHS        30\n",
       "CHEMISTYR    60\n",
       "PHYSICS      56\n",
       "BIOLOGY      67\n",
       "dtype: int64"
      ]
     },
     "execution_count": 6,
     "metadata": {},
     "output_type": "execute_result"
    }
   ],
   "source": [
    "marks=[30,60,56,67]\n",
    "subjects=['MATHS','CHEMISTYR','PHYSICS','BIOLOGY']\n",
    "pd.Series(marks,index=subjects)"
   ]
  },
  {
   "cell_type": "code",
   "execution_count": 7,
   "metadata": {},
   "outputs": [
    {
     "data": {
      "text/plain": [
       "MATHS        30\n",
       "CHEMISTYR    60\n",
       "PHYSICS      56\n",
       "BIOLOGY      67\n",
       "Name: MY MARKS, dtype: int64"
      ]
     },
     "execution_count": 7,
     "metadata": {},
     "output_type": "execute_result"
    }
   ],
   "source": [
    "marks=[30,60,56,67]\n",
    "subjects=['MATHS','CHEMISTYR','PHYSICS','BIOLOGY']\n",
    "pd.Series(marks,index=subjects, name=\"MY MARKS\")"
   ]
  },
  {
   "cell_type": "markdown",
   "metadata": {},
   "source": [
    "SERIES FROM DICTIONARY\n"
   ]
  },
  {
   "cell_type": "code",
   "execution_count": null,
   "metadata": {},
   "outputs": [],
   "source": []
  },
  {
   "cell_type": "code",
   "execution_count": 8,
   "metadata": {},
   "outputs": [
    {
     "data": {
      "text/plain": [
       "MATHS        56\n",
       "CHEMISTRY    44\n",
       "PHYSICS      78\n",
       "BIOLOGY      90\n",
       "dtype: int64"
      ]
     },
     "execution_count": 8,
     "metadata": {},
     "output_type": "execute_result"
    }
   ],
   "source": [
    "marks={\n",
    "    'MATHS':56,\n",
    "    'CHEMISTRY':44,\n",
    "    'PHYSICS':78,\n",
    "    'BIOLOGY':90\n",
    "}\n",
    "pd.Series(marks)"
   ]
  },
  {
   "cell_type": "code",
   "execution_count": 9,
   "metadata": {},
   "outputs": [
    {
     "data": {
      "text/plain": [
       "MATHS        56\n",
       "CHEMISTRY    44\n",
       "PHYSICS      78\n",
       "BIOLOGY      90\n",
       "Name: STUDENT MARKS, dtype: int64"
      ]
     },
     "execution_count": 9,
     "metadata": {},
     "output_type": "execute_result"
    }
   ],
   "source": [
    "marks={\n",
    "    'MATHS':56,\n",
    "    'CHEMISTRY':44,\n",
    "    'PHYSICS':78,\n",
    "    'BIOLOGY':90\n",
    "}\n",
    "data=pd.Series(marks,name=\"STUDENT MARKS\")"
   ]
  },
  {
   "cell_type": "code",
   "execution_count": 13,
   "metadata": {},
   "outputs": [
    {
     "data": {
      "text/plain": [
       "(RangeIndex(start=0, stop=4, step=1), array([1.  , 0.25, 5.6 , 0.76]))"
      ]
     },
     "execution_count": 13,
     "metadata": {},
     "output_type": "execute_result"
    }
   ],
   "source": []
  }
 ],
 "metadata": {
  "kernelspec": {
   "display_name": "Python 3",
   "language": "python",
   "name": "python3"
  },
  "language_info": {
   "codemirror_mode": {
    "name": "ipython",
    "version": 3
   },
   "file_extension": ".py",
   "mimetype": "text/x-python",
   "name": "python",
   "nbconvert_exporter": "python",
   "pygments_lexer": "ipython3",
   "version": "3.12.6"
  }
 },
 "nbformat": 4,
 "nbformat_minor": 2
}
